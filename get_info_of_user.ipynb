{
 "cells": [
  {
   "cell_type": "code",
   "execution_count": 70,
   "metadata": {
    "scrolled": false
   },
   "outputs": [
    {
     "name": "stdout",
     "output_type": "stream",
     "text": [
      "Username is: m.r.hosseinpoor\n",
      "Fullname is: mohammad reza\n",
      "Biography is: 💼 Full stack developer @ MobinTS\n",
      "📚 MSc computer engineering @ Aut\n",
      "🎬🎵📚📷🕹🍕\n",
      "Follow count is: 232\n",
      "FollowBy count is: 441\n",
      "Profile pic is: https://scontent-frx5-1.cdninstagram.com/vp/79a000580bfd513413e3d03e91095a66/5DACA52B/t51.2885-19/s320x320/12905279_1035497596495864_502315590_a.jpg?_nc_ht=scontent-frx5-1.cdninstagram.com\n"
     ]
    }
   ],
   "source": [
    "from bs4 import BeautifulSoup\n",
    "import requests\n",
    "import re\n",
    "import json\n",
    "\n",
    "r = requests.get('https://www.instagram.com/m.r.hosseinpoor/')\n",
    "soup = BeautifulSoup(r.text)\n",
    "scripts = soup.find_all('script')\n",
    "\n",
    "\n",
    "for script in scripts:\n",
    "    if (script.text.find(\"window._sharedData =\") >= 0):\n",
    "        break\n",
    "\n",
    "variable_start = script.text.find('{')\n",
    "variable_end = script.text.rfind('}')+1\n",
    "\n",
    "userPage = json.loads(script.text[variable_start:variable_end])\n",
    "userInfo = userPage[\"entry_data\"][\"ProfilePage\"][0][\"graphql\"][\"user\"]\n",
    "\n",
    "print(\"Username is: \" + userInfo[\"username\"])\n",
    "print(\"Fullname is: \" + userInfo[\"full_name\"])\n",
    "print(\"Biography is: \" + userInfo[\"biography\"])\n",
    "print(\"Follow count is: \" + str(userInfo[\"edge_follow\"][\"count\"]))\n",
    "print(\"FollowBy count is: \" + str(userInfo[\"edge_followed_by\"][\"count\"]))\n",
    "print(\"Profile pic is: \" + userInfo[\"profile_pic_url_hd\"])\n"
   ]
  },
  {
   "cell_type": "code",
   "execution_count": null,
   "metadata": {},
   "outputs": [],
   "source": []
  }
 ],
 "metadata": {
  "kernelspec": {
   "display_name": "Python 3",
   "language": "python",
   "name": "python3"
  },
  "language_info": {
   "codemirror_mode": {
    "name": "ipython",
    "version": 3
   },
   "file_extension": ".py",
   "mimetype": "text/x-python",
   "name": "python",
   "nbconvert_exporter": "python",
   "pygments_lexer": "ipython3",
   "version": "3.7.3"
  }
 },
 "nbformat": 4,
 "nbformat_minor": 2
}
